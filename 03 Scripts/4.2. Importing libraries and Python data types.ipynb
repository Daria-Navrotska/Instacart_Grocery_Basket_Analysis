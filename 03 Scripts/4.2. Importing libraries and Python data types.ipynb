{
 "cells": [
  {
   "cell_type": "markdown",
   "id": "91f87210-ddce-4f37-b6ca-9b2bc8d9a42e",
   "metadata": {},
   "source": [
    "# 01. Importing libraries"
   ]
  },
  {
   "cell_type": "code",
   "execution_count": 2,
   "id": "95ab9b90-cadf-4c28-a32e-6d8e5cac21b7",
   "metadata": {},
   "outputs": [],
   "source": [
    "# Import libraries - pandas, NumPy, os \n",
    "import pandas as pd\n",
    "import numpy as np\n",
    "import os"
   ]
  },
  {
   "cell_type": "markdown",
   "id": "21175dc5-d945-4a69-b930-c37150deb835",
   "metadata": {},
   "source": [
    "# 02. Working with Python data types"
   ]
  },
  {
   "cell_type": "code",
   "execution_count": 3,
   "id": "258d99b5-07d5-4b76-a509-e803a2d4ebb0",
   "metadata": {},
   "outputs": [
    {
     "name": "stdout",
     "output_type": "stream",
     "text": [
      "100\n"
     ]
    }
   ],
   "source": [
    "# 3 different ways of reaching 100 by adding or subtracting numeric variables\n",
    "# Way 1\n",
    "a = 40\n",
    "b = 60\n",
    "a + b\n",
    "print(a + b)"
   ]
  },
  {
   "cell_type": "code",
   "execution_count": 4,
   "id": "c8b0f15b-dae7-41d2-98ba-5899c03ea9e4",
   "metadata": {},
   "outputs": [
    {
     "name": "stdout",
     "output_type": "stream",
     "text": [
      "100\n"
     ]
    }
   ],
   "source": [
    "# Way 2\n",
    "c = 300\n",
    "d = 200\n",
    "c - d\n",
    "print(c - d)"
   ]
  },
  {
   "cell_type": "code",
   "execution_count": 6,
   "id": "bb55613f-be07-45d4-aaa6-9af71a14b523",
   "metadata": {
    "scrolled": true
   },
   "outputs": [
    {
     "name": "stdout",
     "output_type": "stream",
     "text": [
      "100\n"
     ]
    }
   ],
   "source": [
    "# Way 3\n",
    "d-(a+b)\n",
    "print (d-(a+b))"
   ]
  },
  {
   "cell_type": "code",
   "execution_count": 7,
   "id": "0a84d288-51b8-434c-ab8e-aa3cb684e50e",
   "metadata": {},
   "outputs": [
    {
     "name": "stdout",
     "output_type": "stream",
     "text": [
      "5.5\n"
     ]
    }
   ],
   "source": [
    "# divide 2 floating-point variables\n",
    "a = 13.75\n",
    "b = 2.5\n",
    "a / b\n",
    "print(a / b)"
   ]
  },
  {
   "cell_type": "code",
   "execution_count": 8,
   "id": "d4bbd701-6c76-4f2a-b455-96cab518c6a8",
   "metadata": {},
   "outputs": [
    {
     "name": "stdout",
     "output_type": "stream",
     "text": [
      "analytics\n"
     ]
    }
   ],
   "source": [
    "# short word made of separate strings \n",
    "a = \"ana\"\n",
    "b = \"lytics\"\n",
    "a + b\n",
    "print(a + b)"
   ]
  },
  {
   "cell_type": "code",
   "execution_count": 9,
   "id": "90d0f252-ad37-4675-a1d7-612e4a33b83d",
   "metadata": {},
   "outputs": [
    {
     "name": "stdout",
     "output_type": "stream",
     "text": [
      "Data analysts need Python.\n",
      "It is important coding tool.\n"
     ]
    }
   ],
   "source": [
    "# 2 short sentences made of separate strings\n",
    "\n",
    "# First sentence\n",
    "a = \"Data \"\n",
    "b = \"analysts \"\n",
    "c = \"need \"\n",
    "d = \"Python.\"\n",
    "a + b + c + d\n",
    "print(a + b + c + d)\n",
    "\n",
    "# Second sentence\n",
    "e = \"It \"\n",
    "f = \"is \"\n",
    "g = \"important \"\n",
    "h = \"coding tool.\"\n",
    "e + f + g + h\n",
    "print(e + f + g + h)"
   ]
  },
  {
   "cell_type": "code",
   "execution_count": 10,
   "id": "6045a4a6-4775-419f-8aff-8c6b003ca84e",
   "metadata": {},
   "outputs": [
    {
     "name": "stdout",
     "output_type": "stream",
     "text": [
      "DataDataDataDataDataDataDataDataDataDataDataDataDataDataDataDataDataDataDataDataDataDataDataDataDataDataDataDataDataDataDataDataDataDataDataDataDataDataDataDataDataDataDataDataDataDataDataDataDataDataDataDataDataDataDataDataDataDataDataDataDataDataDataDataDataDataDataDataDataDataDataDataDataDataDataDataDataDataDataDataDataDataDataDataDataDataDataDataDataDataDataDataDataDataDataDataDataDataDataData\n"
     ]
    }
   ],
   "source": [
    "# string appear 100 times\n",
    "a = \"Data\"\n",
    "a * 100\n",
    "print(a * 100)"
   ]
  }
 ],
 "metadata": {
  "kernelspec": {
   "display_name": "Python [conda env:base] *",
   "language": "python",
   "name": "conda-base-py"
  },
  "language_info": {
   "codemirror_mode": {
    "name": "ipython",
    "version": 3
   },
   "file_extension": ".py",
   "mimetype": "text/x-python",
   "name": "python",
   "nbconvert_exporter": "python",
   "pygments_lexer": "ipython3",
   "version": "3.13.5"
  }
 },
 "nbformat": 4,
 "nbformat_minor": 5
}
